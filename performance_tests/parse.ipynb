{
 "cells": [
  {
   "cell_type": "code",
   "execution_count": 111,
   "metadata": {},
   "outputs": [],
   "source": [
    "import pandas as pd"
   ]
  },
  {
   "cell_type": "markdown",
   "metadata": {},
   "source": [
    "Get data per node (the increase from start to end)."
   ]
  },
  {
   "cell_type": "code",
   "execution_count": 112,
   "metadata": {},
   "outputs": [],
   "source": [
    "def get_total_per_node(df: pd.DataFrame):\n",
    "    maxval = df.groupby(['node_name'])['value'].max()\n",
    "    maxval.name = 'maxval'\n",
    "    minval = df.groupby(['node_name'])['value'].min()\n",
    "    minval.name = 'minval'\n",
    "\n",
    "    values = pd.concat([maxval, minval], axis=1)\n",
    "    values['node_name'] = values.index\n",
    "    values.index = values.index.rename('idx')\n",
    "    values['delta'] = values['maxval'] - values['minval']\n",
    "    return values"
   ]
  },
  {
   "cell_type": "markdown",
   "metadata": {},
   "source": [
    "Calculate the average increase per round per metric."
   ]
  },
  {
   "cell_type": "code",
   "execution_count": 113,
   "metadata": {},
   "outputs": [],
   "source": [
    "def get_average(df: pd.DataFrame):\n",
    "    values = get_total_per_node(df)\n",
    "    values = values[values['node_name'].str.contains('client')==False]\n",
    "    avg = values.delta.mean()\n",
    "    return avg"
   ]
  },
  {
   "cell_type": "markdown",
   "metadata": {},
   "source": [
    "Calculate the average from all rounds (all Excel sheets)."
   ]
  },
  {
   "cell_type": "code",
   "execution_count": 114,
   "metadata": {},
   "outputs": [],
   "source": [
    "def get_all_rounds(filename: str):\n",
    "    xls = pd.ExcelFile(filename)\n",
    "    data = []\n",
    "    \n",
    "    for sheet in xls.sheet_names:\n",
    "        df = pd.read_excel(filename, sheet)\n",
    "        avg = get_average(df)\n",
    "        data.append([sheet, avg])\n",
    "    \n",
    "    all_rounds = pd.DataFrame(data, columns=['sheet', 'value'])\n",
    "    return all_rounds"
   ]
  },
  {
   "cell_type": "code",
   "execution_count": 115,
   "metadata": {},
   "outputs": [
    {
     "data": {
      "text/plain": [
       "2358954.6666666665"
      ]
     },
     "execution_count": 115,
     "metadata": {},
     "output_type": "execute_result"
    }
   ],
   "source": [
    "data = get_all_rounds('test_data.xlsx')\n",
    "data.value.mean()"
   ]
  }
 ],
 "metadata": {
  "interpreter": {
   "hash": "916dbcbb3f70747c44a77c7bcd40155683ae19c65e1c03b4aa3499c5328201f1"
  },
  "kernelspec": {
   "display_name": "Python 3.8.10 64-bit",
   "language": "python",
   "name": "python3"
  },
  "language_info": {
   "codemirror_mode": {
    "name": "ipython",
    "version": 3
   },
   "file_extension": ".py",
   "mimetype": "text/x-python",
   "name": "python",
   "nbconvert_exporter": "python",
   "pygments_lexer": "ipython3",
   "version": "3.8.10"
  },
  "orig_nbformat": 4
 },
 "nbformat": 4,
 "nbformat_minor": 2
}
