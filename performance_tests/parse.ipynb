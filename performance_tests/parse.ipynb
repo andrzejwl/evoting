{
 "cells": [
  {
   "cell_type": "code",
   "execution_count": 1,
   "metadata": {},
   "outputs": [],
   "source": [
    "import pandas as pd"
   ]
  },
  {
   "cell_type": "markdown",
   "metadata": {},
   "source": [
    "Get data per node (the increase from start to end)."
   ]
  },
  {
   "cell_type": "code",
   "execution_count": 2,
   "metadata": {},
   "outputs": [],
   "source": [
    "def get_total_per_node(df: pd.DataFrame):\n",
    "    maxval = df.groupby(['node_name'])['value'].max()\n",
    "    maxval.name = 'maxval'\n",
    "    minval = df.groupby(['node_name'])['value'].min()\n",
    "    minval.name = 'minval'\n",
    "\n",
    "    values = pd.concat([maxval, minval], axis=1)\n",
    "    values['node_name'] = values.index\n",
    "    values.index = values.index.rename('idx')\n",
    "    values['delta'] = values['maxval'] - values['minval']\n",
    "    return values"
   ]
  },
  {
   "cell_type": "markdown",
   "metadata": {},
   "source": [
    "Calculate the average increase per round per metric."
   ]
  },
  {
   "cell_type": "code",
   "execution_count": 3,
   "metadata": {},
   "outputs": [],
   "source": [
    "def get_average(df: pd.DataFrame):\n",
    "    values = get_total_per_node(df)\n",
    "    values = values[values['node_name'].str.contains('client')==False]\n",
    "    avg = values.delta.mean()\n",
    "    return avg"
   ]
  },
  {
   "cell_type": "markdown",
   "metadata": {},
   "source": [
    "Calculate the average from all rounds (all Excel sheets)."
   ]
  },
  {
   "cell_type": "code",
   "execution_count": 4,
   "metadata": {},
   "outputs": [],
   "source": [
    "def get_all_rounds(filename: str):\n",
    "    xls = pd.ExcelFile(filename)\n",
    "    data = []\n",
    "    \n",
    "    for sheet in xls.sheet_names:\n",
    "        df = pd.read_excel(filename, sheet)\n",
    "        avg = get_average(df)\n",
    "        data.append([sheet, avg])\n",
    "    \n",
    "    all_rounds = pd.DataFrame(data, columns=['sheet', 'value'])\n",
    "    return all_rounds"
   ]
  },
  {
   "cell_type": "markdown",
   "metadata": {},
   "source": [
    "Parse all statistics"
   ]
  },
  {
   "cell_type": "code",
   "execution_count": 5,
   "metadata": {},
   "outputs": [
    {
     "data": {
      "text/html": [
       "<div>\n",
       "<style scoped>\n",
       "    .dataframe tbody tr th:only-of-type {\n",
       "        vertical-align: middle;\n",
       "    }\n",
       "\n",
       "    .dataframe tbody tr th {\n",
       "        vertical-align: top;\n",
       "    }\n",
       "\n",
       "    .dataframe thead th {\n",
       "        text-align: right;\n",
       "    }\n",
       "</style>\n",
       "<table border=\"1\" class=\"dataframe\">\n",
       "  <thead>\n",
       "    <tr style=\"text-align: right;\">\n",
       "      <th></th>\n",
       "      <th>stat</th>\n",
       "      <th>transactions</th>\n",
       "      <th>pow</th>\n",
       "      <th>pbft</th>\n",
       "    </tr>\n",
       "  </thead>\n",
       "  <tbody>\n",
       "    <tr>\n",
       "      <th>0</th>\n",
       "      <td>cpu</td>\n",
       "      <td>200</td>\n",
       "      <td>5.477860e-01</td>\n",
       "      <td>3.097675e-02</td>\n",
       "    </tr>\n",
       "    <tr>\n",
       "      <th>1</th>\n",
       "      <td>memory</td>\n",
       "      <td>200</td>\n",
       "      <td>9.961275e+07</td>\n",
       "      <td>5.731287e+06</td>\n",
       "    </tr>\n",
       "    <tr>\n",
       "      <th>2</th>\n",
       "      <td>rcv</td>\n",
       "      <td>200</td>\n",
       "      <td>6.334033e+06</td>\n",
       "      <td>1.257200e+06</td>\n",
       "    </tr>\n",
       "    <tr>\n",
       "      <th>3</th>\n",
       "      <td>tx</td>\n",
       "      <td>200</td>\n",
       "      <td>3.733783e+06</td>\n",
       "      <td>1.303771e+06</td>\n",
       "    </tr>\n",
       "    <tr>\n",
       "      <th>4</th>\n",
       "      <td>cpu</td>\n",
       "      <td>500</td>\n",
       "      <td>1.502620e+00</td>\n",
       "      <td>4.050679e-01</td>\n",
       "    </tr>\n",
       "    <tr>\n",
       "      <th>5</th>\n",
       "      <td>memory</td>\n",
       "      <td>500</td>\n",
       "      <td>2.814029e+08</td>\n",
       "      <td>5.964702e+07</td>\n",
       "    </tr>\n",
       "    <tr>\n",
       "      <th>6</th>\n",
       "      <td>rcv</td>\n",
       "      <td>500</td>\n",
       "      <td>1.885518e+07</td>\n",
       "      <td>3.438144e+07</td>\n",
       "    </tr>\n",
       "    <tr>\n",
       "      <th>7</th>\n",
       "      <td>tx</td>\n",
       "      <td>500</td>\n",
       "      <td>1.151957e+07</td>\n",
       "      <td>3.616333e+07</td>\n",
       "    </tr>\n",
       "    <tr>\n",
       "      <th>8</th>\n",
       "      <td>cpu</td>\n",
       "      <td>1000</td>\n",
       "      <td>3.099367e+00</td>\n",
       "      <td>1.342399e+00</td>\n",
       "    </tr>\n",
       "    <tr>\n",
       "      <th>9</th>\n",
       "      <td>memory</td>\n",
       "      <td>1000</td>\n",
       "      <td>5.777999e+08</td>\n",
       "      <td>1.371597e+08</td>\n",
       "    </tr>\n",
       "    <tr>\n",
       "      <th>10</th>\n",
       "      <td>rcv</td>\n",
       "      <td>1000</td>\n",
       "      <td>4.304032e+07</td>\n",
       "      <td>1.564014e+08</td>\n",
       "    </tr>\n",
       "    <tr>\n",
       "      <th>11</th>\n",
       "      <td>tx</td>\n",
       "      <td>1000</td>\n",
       "      <td>2.800951e+07</td>\n",
       "      <td>1.644194e+08</td>\n",
       "    </tr>\n",
       "  </tbody>\n",
       "</table>\n",
       "</div>"
      ],
      "text/plain": [
       "      stat  transactions           pow          pbft\n",
       "0      cpu           200  5.477860e-01  3.097675e-02\n",
       "1   memory           200  9.961275e+07  5.731287e+06\n",
       "2      rcv           200  6.334033e+06  1.257200e+06\n",
       "3       tx           200  3.733783e+06  1.303771e+06\n",
       "4      cpu           500  1.502620e+00  4.050679e-01\n",
       "5   memory           500  2.814029e+08  5.964702e+07\n",
       "6      rcv           500  1.885518e+07  3.438144e+07\n",
       "7       tx           500  1.151957e+07  3.616333e+07\n",
       "8      cpu          1000  3.099367e+00  1.342399e+00\n",
       "9   memory          1000  5.777999e+08  1.371597e+08\n",
       "10     rcv          1000  4.304032e+07  1.564014e+08\n",
       "11      tx          1000  2.800951e+07  1.644194e+08"
      ]
     },
     "execution_count": 5,
     "metadata": {},
     "output_type": "execute_result"
    }
   ],
   "source": [
    "files = {\n",
    "    'pbft': {\n",
    "        'cpu': 'pbft_cpu_time.xlsx',\n",
    "        'memory': 'pbft_memory.xlsx',\n",
    "        'rcv': 'pbft_network_rcv.xlsx',\n",
    "        'tx': 'pbft_network_tx.xlsx',\n",
    "    },\n",
    "    'pow': {\n",
    "        'cpu': 'pow_cpu_time.xlsx',\n",
    "        'memory': 'pow_memory.xlsx',\n",
    "        'rcv': 'pow_network_rcv.xlsx',\n",
    "        'tx': 'pow_network_tx.xlsx',\n",
    "    }\n",
    "}\n",
    "\n",
    "titles = {\n",
    "    'cpu': 'Cumulative CPU time consumed in seconds',\n",
    "    'memory': 'Memory usage in bytes',\n",
    "    'rcv': 'Bytes received over the network',\n",
    "    'tx': 'Bytes transmitted over the network',\n",
    "}\n",
    "\n",
    "yaxis_titles = {\n",
    "    'cpu': 'CPU time consumed (s)',\n",
    "    'memory': 'Memory usage (bytes)',\n",
    "    'rcv': 'Bytes received',\n",
    "    'tx': 'Bytes transmitted',\n",
    "}\n",
    "\n",
    "stats = list(files['pbft'].keys())\n",
    "\"\"\"\n",
    "    stat pbft pow transactions\n",
    "    cpu  x    y   1000\n",
    "    cpu  x    y   500\n",
    "    mem  a    b   1000\n",
    "    mem  a    b   500\n",
    "    ...\n",
    "\"\"\" \n",
    "avg_data = []\n",
    "\n",
    "transactions = [200, 500, 1000]\n",
    "consensus = ['pow', 'pbft']\n",
    "# mechanisms = [f'{cons} {t}' for t in transactions for cons in consensus]\n",
    "\n",
    "for t in transactions:\n",
    "    for stat in stats:\n",
    "        data_row = [stat, t]\n",
    "        pbft = get_all_rounds(f\"data/{t}/{files['pbft'][stat]}\")\n",
    "        pow = get_all_rounds(f\"data/{t}/{files['pow'][stat]}\")\n",
    "        data_row.append(pbft.value.mean())\n",
    "        data_row.append(pow.value.mean())\n",
    "        avg_data.append(data_row)\n",
    "\n",
    "avg_df = pd.DataFrame(avg_data, columns=['stat', 'transactions'] + consensus)\n",
    "\n",
    "avg_df\n"
   ]
  },
  {
   "cell_type": "markdown",
   "metadata": {},
   "source": [
    "Plot data with the use of matplotlib."
   ]
  },
  {
   "cell_type": "code",
   "execution_count": 6,
   "metadata": {},
   "outputs": [
    {
     "data": {
      "text/html": [
       "<div>\n",
       "<style scoped>\n",
       "    .dataframe tbody tr th:only-of-type {\n",
       "        vertical-align: middle;\n",
       "    }\n",
       "\n",
       "    .dataframe tbody tr th {\n",
       "        vertical-align: top;\n",
       "    }\n",
       "\n",
       "    .dataframe thead th {\n",
       "        text-align: right;\n",
       "    }\n",
       "</style>\n",
       "<table border=\"1\" class=\"dataframe\">\n",
       "  <thead>\n",
       "    <tr style=\"text-align: right;\">\n",
       "      <th></th>\n",
       "      <th>stat</th>\n",
       "      <th>transactions</th>\n",
       "      <th>pow</th>\n",
       "      <th>pbft</th>\n",
       "    </tr>\n",
       "  </thead>\n",
       "  <tbody>\n",
       "    <tr>\n",
       "      <th>0</th>\n",
       "      <td>cpu</td>\n",
       "      <td>200</td>\n",
       "      <td>0.547786</td>\n",
       "      <td>0.030977</td>\n",
       "    </tr>\n",
       "    <tr>\n",
       "      <th>4</th>\n",
       "      <td>cpu</td>\n",
       "      <td>500</td>\n",
       "      <td>1.502620</td>\n",
       "      <td>0.405068</td>\n",
       "    </tr>\n",
       "    <tr>\n",
       "      <th>8</th>\n",
       "      <td>cpu</td>\n",
       "      <td>1000</td>\n",
       "      <td>3.099367</td>\n",
       "      <td>1.342399</td>\n",
       "    </tr>\n",
       "  </tbody>\n",
       "</table>\n",
       "</div>"
      ],
      "text/plain": [
       "  stat  transactions       pow      pbft\n",
       "0  cpu           200  0.547786  0.030977\n",
       "4  cpu           500  1.502620  0.405068\n",
       "8  cpu          1000  3.099367  1.342399"
      ]
     },
     "execution_count": 6,
     "metadata": {},
     "output_type": "execute_result"
    }
   ],
   "source": [
    "avg_df[avg_df.stat == 'cpu']"
   ]
  },
  {
   "cell_type": "code",
   "execution_count": 19,
   "metadata": {},
   "outputs": [
    {
     "data": {
      "image/png": "[encoded data removed]",
      "text/plain": [
       "<Figure size 432x288 with 1 Axes>"
      ]
     },
     "metadata": {
      "needs_background": "light"
     },
     "output_type": "display_data"
    },
    {
     "data": {
      "image/png": "[encoded data removed]",
      "text/plain": [
       "<Figure size 432x288 with 1 Axes>"
      ]
     },
     "metadata": {
      "needs_background": "light"
     },
     "output_type": "display_data"
    },
    {
     "data": {
      "image/png": "[encoded data removed]",
      "text/plain": [
       "<Figure size 432x288 with 1 Axes>"
      ]
     },
     "metadata": {
      "needs_background": "light"
     },
     "output_type": "display_data"
    },
    {
     "data": {
      "image/png": "[encoded data removed]",
      "text/plain": [
       "<Figure size 432x288 with 1 Axes>"
      ]
     },
     "metadata": {
      "needs_background": "light"
     },
     "output_type": "display_data"
    }
   ],
   "source": [
    "from matplotlib import pyplot as plt\n",
    "import numpy as np\n",
    "\n",
    "metrics = list(avg_df.stat.unique())\n",
    "consensus_labels = ['PBFT', 'PoW (difficulty 3)']\n",
    "\n",
    "for metric in metrics:\n",
    "    tx = list(avg_df.transactions.unique())\n",
    "    vals_pow = avg_df[avg_df.stat == metric]['pow'].tolist()\n",
    "    vals_pbft = avg_df[avg_df.stat == metric]['pbft'].tolist()\n",
    "    pos = np.arange(len(tx))\n",
    "    bar_width = 0.35\n",
    "\n",
    "    plt.figure()\n",
    "    # plt.title(titles[metric], fontsize=16)\n",
    "    plt.bar(pos, vals_pbft, bar_width, color='blue')\n",
    "    plt.bar(pos+bar_width, vals_pow, bar_width, color='red')\n",
    "    plt.xticks(pos, tx)\n",
    "    plt.xlabel('Transactions', fontsize=16)\n",
    "    plt.ylabel(yaxis_titles[metric], fontsize=16)\n",
    "    plt.legend(consensus_labels, loc=2)\n",
    "plt.show()"
   ]
  },
  {
   "cell_type": "markdown",
   "metadata": {},
   "source": [
    "Total time taken to submit the transactions by the consensus and number of transactions."
   ]
  },
  {
   "cell_type": "code",
   "execution_count": 8,
   "metadata": {},
   "outputs": [],
   "source": [
    "transactions = [200, 500, 1000]\n",
    "pbft_rounds = pd.DataFrame(columns=['round_number', 'transactions', 'total_time'])\n",
    "pow_rounds = pd.DataFrame(columns=['round_number', 'transactions', 'total_time'])\n",
    "\n",
    "for t in transactions:\n",
    "    pbft_rounds = pd.concat([pbft_rounds, pd.read_excel(f\"data/{t}/pbft_rounds_data.xlsx\")], ignore_index=True)\n",
    "    pow_rounds = pd.concat([pow_rounds, pd.read_excel(f\"data/{t}/pow_rounds_data.xlsx\")], ignore_index=True)\n",
    "\n",
    "\n",
    "pbft_avg = []\n",
    "pow_avg = []\n",
    "for t in transactions:\n",
    "    pbft_avg.append(pbft_rounds[pbft_rounds['transactions']==t]['total_time'].mean())\n",
    "    pow_avg.append(pow_rounds[pow_rounds['transactions']==t]['total_time'].mean())\n"
   ]
  },
  {
   "cell_type": "code",
   "execution_count": 9,
   "metadata": {},
   "outputs": [
    {
     "data": {
      "image/png": "[encoded data removed]",
      "text/plain": [
       "<Figure size 432x288 with 1 Axes>"
      ]
     },
     "metadata": {
      "needs_background": "light"
     },
     "output_type": "display_data"
    }
   ],
   "source": [
    "pos = np.arange(len(tx))\n",
    "bar_width = 0.35\n",
    "\n",
    "plt.figure()\n",
    "# plt.title('Average time taken to submit the transactions', fontsize=16) # title set in the document\n",
    "plt.bar(pos, pbft_avg, bar_width, color='blue')\n",
    "plt.bar(pos+bar_width, pow_avg, bar_width, color='red')\n",
    "plt.xticks(pos, tx)\n",
    "plt.xlabel('Transactions', fontsize=12)\n",
    "plt.ylabel('Total time (s)', fontsize=12)\n",
    "plt.legend(consensus_labels, loc=2)\n",
    "plt.show()"
   ]
  },
  {
   "cell_type": "code",
   "execution_count": 10,
   "metadata": {},
   "outputs": [
    {
     "data": {
      "image/png": "[encoded data removed]",
      "text/plain": [
       "<Figure size 432x288 with 1 Axes>"
      ]
     },
     "metadata": {
      "needs_background": "light"
     },
     "output_type": "display_data"
    }
   ],
   "source": [
    "pow4_rounds = pd.DataFrame(columns=['round_number', 'transactions', 'total_time'])\n",
    "\n",
    "for t in transactions:\n",
    "    pow4_rounds = pd.concat([pow4_rounds, pd.read_excel(f\"data/{t}/pow4_rounds_data.xlsx\")], ignore_index=True)\n",
    "\n",
    "\n",
    "pow4_avg = []\n",
    "for t in transactions:\n",
    "    pow4_avg.append(pow4_rounds[pow4_rounds['transactions']==t]['total_time'].mean())\n",
    "\n",
    "consensus_labels = ['PBFT', 'PoW (difficulty 4)']\n",
    "\n",
    "plt.figure()\n",
    "# plt.title('Average time taken to submit the transactions', fontsize=16) # title set in the document\n",
    "plt.bar(pos, pbft_avg, bar_width, color='blue')\n",
    "plt.bar(pos+bar_width, pow4_avg, bar_width, color='red')\n",
    "plt.xticks(pos, tx)\n",
    "plt.xlabel('Transactions', fontsize=12)\n",
    "plt.ylabel('Total time (s)', fontsize=12)\n",
    "plt.legend(consensus_labels, loc=2)\n",
    "plt.show()"
   ]
  },
  {
   "cell_type": "markdown",
   "metadata": {},
   "source": [
    "Calculate the average tps (transactions per second)."
   ]
  },
  {
   "cell_type": "code",
   "execution_count": 12,
   "metadata": {},
   "outputs": [
    {
     "name": "stdout",
     "output_type": "stream",
     "text": [
      "9.13 38.06 9.71\n"
     ]
    }
   ],
   "source": [
    "def get_tps(transactions, time)->float:\n",
    "    avgs = []\n",
    "    for i, t in enumerate(transactions):\n",
    "        avgs.append(t / time[i])\n",
    "    return round(sum(avgs)/len(transactions), 2)\n",
    "\n",
    "tps_pbft = get_tps(transactions, pbft_avg)\n",
    "tps_pow3 = get_tps(transactions, pow_avg)\n",
    "tps_pow4 = get_tps(transactions, pow4_avg)\n",
    "print(tps_pbft, tps_pow3, tps_pow4)"
   ]
  },
  {
   "cell_type": "markdown",
   "metadata": {},
   "source": [
    "Calculate TPS for difficulty 5 PoW."
   ]
  },
  {
   "cell_type": "code",
   "execution_count": 13,
   "metadata": {},
   "outputs": [
    {
     "name": "stdout",
     "output_type": "stream",
     "text": [
      "0.77\n"
     ]
    }
   ],
   "source": [
    "pow5_rounds = pd.read_excel(\"data/200/pow5_rounds_data.xlsx\")\n",
    "\n",
    "pow5_avg = pow5_rounds[pow5_rounds['transactions']==200]['total_time'].mean()\n",
    "tps_pow5 = get_tps([200], [pow5_avg])\n",
    "print(tps_pow5)"
   ]
  },
  {
   "cell_type": "code",
   "execution_count": 18,
   "metadata": {},
   "outputs": [
    {
     "data": {
      "image/png": "[encoded data removed]",
      "text/plain": [
       "<Figure size 432x288 with 1 Axes>"
      ]
     },
     "metadata": {
      "needs_background": "light"
     },
     "output_type": "display_data"
    }
   ],
   "source": [
    "def get_rounds_data(consensus, transactions):\n",
    "    rounds = pd.DataFrame(columns=['round_number', 'transactions', 'total_time'])\n",
    "\n",
    "    for t in transactions:\n",
    "        rounds = pd.concat([rounds, pd.read_excel(f\"data/{t}/{consensus}_rounds_data.xlsx\")], ignore_index=True)\n",
    "\n",
    "    return rounds\n",
    "\n",
    "pbft5_rounds = get_rounds_data('pbft_5_nodes', transactions)\n",
    "pbft10_rounds = get_rounds_data('pbft', transactions)\n",
    "pbft20_rounds = get_rounds_data('pbft_20_nodes', [200, 500])\n",
    "\n",
    "pbft5_avg = []\n",
    "pbft10_avg = []\n",
    "pbft20_avg = []\n",
    "\n",
    "for t in transactions:\n",
    "    pbft5_avg.append(pbft5_rounds[pbft5_rounds['transactions']==t]['total_time'].mean())\n",
    "    pbft10_avg.append(pbft10_rounds[pbft10_rounds['transactions']==t]['total_time'].mean())\n",
    "    pbft20_avg.append(pbft20_rounds[pbft20_rounds['transactions']==t]['total_time'].mean())\n",
    "\n",
    "consensus_labels = ['PBFT (5 nodes)', 'PBFT (10 nodes)', 'PBFT (20 nodes)']\n",
    "\n",
    "bar_width = 0.25\n",
    "\n",
    "plt.figure()\n",
    "# plt.title('Average time taken to submit the transactions', fontsize=16) # title set in the document\n",
    "plt.bar(pos, pbft5_avg, bar_width, color='blue')\n",
    "plt.bar(pos+bar_width, pbft10_avg, bar_width, color='red')\n",
    "plt.bar(pos+2*bar_width, pbft20_avg, bar_width, color='green')\n",
    "plt.xticks(pos, tx)\n",
    "plt.xlabel('Transactions', fontsize=12)\n",
    "plt.ylabel('Total time (s)', fontsize=12)\n",
    "plt.legend(consensus_labels, loc=2)\n",
    "plt.show()"
   ]
  }
 ],
 "metadata": {
  "interpreter": {
   "hash": "916dbcbb3f70747c44a77c7bcd40155683ae19c65e1c03b4aa3499c5328201f1"
  },
  "kernelspec": {
   "display_name": "Python 3.8.10 64-bit",
   "language": "python",
   "name": "python3"
  },
  "language_info": {
   "codemirror_mode": {
    "name": "ipython",
    "version": 3
   },
   "file_extension": ".py",
   "mimetype": "text/x-python",
   "name": "python",
   "nbconvert_exporter": "python",
   "pygments_lexer": "ipython3",
   "version": "3.8.10"
  },
  "orig_nbformat": 4
 },
 "nbformat": 4,
 "nbformat_minor": 2
}
